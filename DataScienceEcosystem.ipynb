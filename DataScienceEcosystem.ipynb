{
 "cells": [
  {
   "cell_type": "markdown",
   "metadata": {},
   "source": [
    "# Data Science Tools and Ecosystem"
   ]
  },
  {
   "cell_type": "markdown",
   "metadata": {},
   "source": [
    "#### In this notebook, Data Science Tools and Ecosystem are summarized."
   ]
  },
  {
   "cell_type": "markdown",
   "metadata": {},
   "source": [
    "\n",
    "## Objectives\n",
    "\n",
    "1. **Understand Basic Arithmetic:**\n",
    "   - Learn and apply basic arithmetic operations such as addition, subtraction, multiplication, and division.\n",
    "\n",
    "2. **Convert Units:**\n",
    "   - Gain proficiency in converting units, for example, converting minutes to hours.\n",
    "\n",
    "3. **Familiarity with Markdown:**\n",
    "   - Practice using Markdown syntax to format text, create lists, and structure content.\n",
    "\n",
    "4. **Coding in Python:**\n",
    "   - Get hands-on experience with Python code cells to perform calculations and solve problems.\n",
    "\n",
    "5. **Explore Data Science Tools:**\n",
    "   - Explore and become familiar with common data science tools and libraries.\n",
    "\n",
    "6. **Effective Communication:**\n",
    "   - Develop skills in communicating results and information clearly using Markdown cells.\n",
    "\n",
    "7. **Customization and Adaptation:**\n",
    "   - Adapt the provided examples and code to address specific needs and scenarios.\n"
   ]
  },
  {
   "cell_type": "markdown",
   "metadata": {},
   "source": [
    "### Some of the popular languages that Data Scientists use are:\n",
    "\n",
    "1. Python\n",
    "2. R\n",
    "3. Julia\n",
    "4. SQL\n",
    "5. Scala\n",
    "6. MATLAB\n",
    "7. Java\n",
    "8. SAS\n"
   ]
  },
  {
   "cell_type": "markdown",
   "metadata": {},
   "source": [
    "### Some of the commonly used libraries used by Data Scientists include:\n",
    "- **Python:**\n",
    "  1. NumPy\n",
    "  2. pandas\n",
    "  3. Matplotlib\n",
    "  4. Seaborn\n",
    "  5. scikit-learn\n",
    "  6. TensorFlow\n",
    "  7. PyTorch"
   ]
  },
  {
   "cell_type": "markdown",
   "metadata": {},
   "source": [
    "# Data Science Tools\n",
    "\n",
    "| Category        | Tools                                   |\n",
    "|-----------------|-----------------------|\n",
    "| **Programming Languages** | Python, R, Julia, SQL, Java, MATLAB |\n",
    "| **Data Manipulation**      | Pandas, dplyr, SQL                     |\n",
    "| **Visualization**         | Matplotlib, Seaborn, ggplot2           |\n",
    "| **Machine Learning**      | scikit-learn, TensorFlow, PyTorch      |\n",
    "| ***Big Data Processing***  | Apache Spark, Hadoop                   |\n",
    "| **Database**              | SQLite, PostgreSQL                     |\n",
    "| **Version Control**       | Git, GitHub, GitLab                    |\n",
    "| **Notebook Environment**  | Jupyter Notebooks, RStudio             |\n",
    "| **Text Editors/IDEs**     | VS Code, PyCharm, RStudio, JupyterLab  |\n"
   ]
  },
  {
   "cell_type": "markdown",
   "metadata": {},
   "source": [
    "### Below are a few examples of evaluating arithmetic expressions in Python"
   ]
  },
  {
   "cell_type": "code",
   "execution_count": 5,
   "metadata": {},
   "outputs": [
    {
     "data": {
      "text/plain": [
       "17"
      ]
     },
     "execution_count": 5,
     "metadata": {},
     "output_type": "execute_result"
    }
   ],
   "source": [
    "#This a simple arithmetic expression to mutiply then add integers\n",
    "(3*4)+5"
   ]
  },
  {
   "cell_type": "code",
   "execution_count": 6,
   "metadata": {},
   "outputs": [
    {
     "data": {
      "text/plain": [
       "3.3333333333333335"
      ]
     },
     "execution_count": 6,
     "metadata": {},
     "output_type": "execute_result"
    }
   ],
   "source": [
    "#This will convert 200 minutes to hours by diving by 60.\n",
    "# Input: Minutes\n",
    "minutes = 200\n",
    "\n",
    "# Conversion: Minutes to Hours\n",
    "hours = minutes / 60\n",
    "\n",
    "# Display the result\n",
    "hours\n"
   ]
  },
  {
   "cell_type": "markdown",
   "metadata": {},
   "source": [
    "## Author\n",
    "Sai Wi Latt"
   ]
  }
 ],
 "metadata": {
  "kernelspec": {
   "display_name": "Python 3",
   "language": "python",
   "name": "python3"
  },
  "language_info": {
   "codemirror_mode": {
    "name": "ipython",
    "version": 3
   },
   "file_extension": ".py",
   "mimetype": "text/x-python",
   "name": "python",
   "nbconvert_exporter": "python",
   "pygments_lexer": "ipython3",
   "version": "3.11.1"
  }
 },
 "nbformat": 4,
 "nbformat_minor": 2
}
